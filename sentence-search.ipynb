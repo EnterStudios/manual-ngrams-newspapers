{
 "cells": [
  {
   "cell_type": "code",
   "execution_count": 1,
   "metadata": {
    "collapsed": true,
    "scrolled": true
   },
   "outputs": [],
   "source": [
    "#%% libraries\n",
    "import os\n",
    "import itertools\n",
    "import re\n",
    "\n",
    "import pandas as pd\n",
    "import numpy as np\n",
    "import matplotlib.pyplot as plt\n",
    "import seaborn as sns \n",
    "\n",
    "import plotly.plotly as py\n",
    "import plotly.graph_objs as go\n",
    "\n",
    "from datetime import datetime\n",
    "%matplotlib inline\n",
    "\n",
    "# run for jupyter notebook\n",
    "from IPython.core.interactiveshell import InteractiveShell\n",
    "InteractiveShell.ast_node_interactivity = 'all'"
   ]
  },
  {
   "cell_type": "markdown",
   "metadata": {},
   "source": [
    "### functions"
   ]
  },
  {
   "cell_type": "code",
   "execution_count": 2,
   "metadata": {
    "collapsed": true
   },
   "outputs": [],
   "source": [
    "def date_stitcher(prefix,ext,ybegin, yend,\n",
    "                  months = ['{num:02d}'.format(num=x) for x in range(1, 13)], \n",
    "                  days= ['{num:02d}'.format(num=x) for x in range(1, 32)] ):\n",
    "    years = [str(x) for x in range(ybegin, yend)]\n",
    "    filelist = []\n",
    "    combinations = list(itertools.product(years, months, days))\n",
    "    for combination in combinations:\n",
    "        arguments = \"_\".join(combination)\n",
    "        command = prefix + arguments + ext\n",
    "        filelist.append(command)\n",
    "    return filelist"
   ]
  },
  {
   "cell_type": "code",
   "execution_count": 3,
   "metadata": {},
   "outputs": [],
   "source": [
    "def lines_with_words(infile, tup):\n",
    "    file = open(infile,'r') \n",
    "    count = 0\n",
    "    p = r'^'\n",
    "    # stitch together string literal for arbitrary list of arguments\n",
    "    for arg in tup:\n",
    "        p = p + '(?=.*{0}).*'.format(arg)\n",
    "    p = p+'$'\n",
    "    #  string literal looks like r'^(?=.*{0}).*(?=.*{1}).*$'.format(word1,word2,...)\n",
    "    r = re.compile(p)\n",
    "    \n",
    "    for line in file:\n",
    "        if len(re.findall(r,line)) > 0:\n",
    "            count += 1\n",
    "    \n",
    "    return count"
   ]
  },
  {
   "cell_type": "code",
   "execution_count": 4,
   "metadata": {},
   "outputs": [],
   "source": [
    "def kw_tuple_search(flist, inpdir, listOfTuples):\n",
    "    # initialise dataframe\n",
    "    tallies = pd.DataFrame(flist, columns=['file']).set_index('file')\n",
    "    tallies['exists']=np.nan\n",
    "    for kw in listOfTuples:\n",
    "        colname = '-'.join(kw)        \n",
    "        tallies[colname] = np.nan\n",
    "    \n",
    "    # count in all files\n",
    "    for infile in flist:\n",
    "        file = inpdir + '/' + infile\n",
    "        exist_flag = os.path.exists(file)\n",
    "        if exist_flag:\n",
    "            tallies.at[infile, 'exists'] = 1\n",
    "            for kw in listOfTuples:\n",
    "                try:\n",
    "                    colname = '-'.join(kw)        \n",
    "                    tally = lines_with_words(file,kw)\n",
    "                    tallies.at[infile, colname] = tally                    \n",
    "                except:\n",
    "                    continue\n",
    "        else:\n",
    "            tallies.at[infile, 'exists'] = 0\n",
    "            continue\n",
    "    # subset to nonempty rows\n",
    "    data = tallies[(tallies['exists']==1)]\n",
    "    return(data)\n"
   ]
  },
  {
   "cell_type": "code",
   "execution_count": 5,
   "metadata": {
    "collapsed": true
   },
   "outputs": [],
   "source": [
    "def prep_ngram_data(flist,keywords,inp):\n",
    "    data = kw_tuple_search(flist,inp,keywords)\n",
    "    # this will print a barrage of warnings\n",
    "    data.reset_index(level=0, inplace=True)\n",
    "    data.file = data.file.str[14:24] # hacky - relies on particular naming format\n",
    "    data['date']=pd.to_datetime(data['file'], format='%Y_%m_%d')\n",
    "    \n",
    "    data.drop(['file','exists'],axis=1,inplace=True)\n",
    "    clean = data.set_index('date')\n",
    "    \n",
    "    return(clean)"
   ]
  },
  {
   "cell_type": "markdown",
   "metadata": {},
   "source": [
    "## interactive plots \n",
    "(uses plotly - please submit an issue to github repo if the plots are 404 )"
   ]
  },
  {
   "cell_type": "code",
   "execution_count": 13,
   "metadata": {},
   "outputs": [],
   "source": [
    "def plot_interactive(df,header='Appearances same sentence in TKP archive'):\n",
    "    data = []\n",
    "    vars = list(df)\n",
    "    for v in vars:\n",
    "        data.append(go.Scatter(x = df.index,y = df[v],name=v))\n",
    "    \n",
    "    layout = dict(\n",
    "        title=header,\n",
    "        xaxis=dict(\n",
    "            rangeselector=dict(\n",
    "                buttons=list([\n",
    "                    dict(count=1,label='1m',step='month',stepmode='backward'),\n",
    "                    dict(count=6,label='6m',step='month',stepmode='backward'),\n",
    "                    dict(count=1,label='YTD',step='year',stepmode='todate'),\n",
    "                    dict(count=1,label='1y',step='year',stepmode='backward'),\n",
    "                    dict(count=2,label='2y',step='year',stepmode='backward'),\n",
    "                    dict(step='all')\n",
    "                ])\n",
    "            ),\n",
    "            rangeslider=dict(),\n",
    "            type='date'\n",
    "        )\n",
    "    )\n",
    "    fig = dict(data=data, layout=layout)\n",
    "    return py.iplot(fig)"
   ]
  },
  {
   "cell_type": "code",
   "execution_count": 7,
   "metadata": {
    "collapsed": true
   },
   "outputs": [],
   "source": [
    "# preliminaries\n",
    "working = '/media/alal/NEPALINEWS/The Kathmandu Post'\n",
    "os.chdir(working)\n",
    "tmp = '/home/alal/tmp'\n",
    "inp = '/media/alal/NEPALINEWS/The Kathmandu Post/word_frequencies'\n",
    "\n",
    "flist = date_stitcher('sentences_TKP_','.txt',2007, 2018)\n",
    "inp = '/media/alal/NEPALINEWS/The Kathmandu Post/sentences'"
   ]
  },
  {
   "cell_type": "code",
   "execution_count": 8,
   "metadata": {},
   "outputs": [],
   "source": [
    "keywords = [('tamang','court'),('tamang','school'),\n",
    "            ('newar','court'),('newar','school'),\n",
    "            ('bhojpuri','court'),('bhojpuri','school'),\n",
    "            ('maithili','court'),('maithili','school'),\n",
    "            ('gurung','court'),('gurung','school')]"
   ]
  },
  {
   "cell_type": "code",
   "execution_count": 13,
   "metadata": {},
   "outputs": [
    {
     "name": "stdout",
     "output_type": "stream",
     "text": [
      "CPU times: user 2min 30s, sys: 1.65 s, total: 2min 32s\n",
      "Wall time: 2min 32s\n"
     ]
    }
   ],
   "source": [
    "%%time\n",
    "clean = prep_ngram_data(flist,keywords,inp)"
   ]
  },
  {
   "cell_type": "code",
   "execution_count": 14,
   "metadata": {},
   "outputs": [
    {
     "data": {
      "text/plain": [
       "tamang-court        88.0\n",
       "tamang-school      192.0\n",
       "newar-court         30.0\n",
       "newar-school        28.0\n",
       "bhojpuri-court       0.0\n",
       "bhojpuri-school      4.0\n",
       "maithili-court      10.0\n",
       "maithili-school     12.0\n",
       "gurung-court       237.0\n",
       "gurung-school      325.0\n",
       "dtype: float64"
      ]
     },
     "execution_count": 14,
     "metadata": {},
     "output_type": "execute_result"
    }
   ],
   "source": [
    "clean.sum()"
   ]
  },
  {
   "cell_type": "code",
   "execution_count": 56,
   "metadata": {},
   "outputs": [
    {
     "data": {
      "text/html": [
       "<iframe id=\"igraph\" scrolling=\"no\" style=\"border:none;\" seamless=\"seamless\" src=\"https://plot.ly/~apoorvalal/83.embed\" height=\"525px\" width=\"100%\"></iframe>"
      ],
      "text/plain": [
       "<plotly.tools.PlotlyDisplay object>"
      ]
     },
     "execution_count": 56,
     "metadata": {},
     "output_type": "execute_result"
    }
   ],
   "source": [
    "plot_interactive(clean)"
   ]
  },
  {
   "cell_type": "markdown",
   "metadata": {},
   "source": [
    "## `({tamang,newar,bhojpuri,maithili,gurung} + language + {court,school}` in same sentence"
   ]
  },
  {
   "cell_type": "code",
   "execution_count": 9,
   "metadata": {},
   "outputs": [],
   "source": [
    "keywords = [\n",
    "    ('tamang', 'language', 'court'), \n",
    "    ('tamang', 'language', 'school'),\n",
    "    ('newar', 'language', 'court'), \n",
    "    ('newar', 'language', 'school'),\n",
    "    ('bhojpuri', 'language', 'court'), \n",
    "    ('bhojpuri', 'language', 'school'),\n",
    "    ('maithili', 'language', 'court'), \n",
    "    ('maithili', 'language', 'school'),\n",
    "    ('gurung', 'language', 'court'), \n",
    "    ('gurung', 'language', 'school')\n",
    "]"
   ]
  },
  {
   "cell_type": "code",
   "execution_count": 10,
   "metadata": {},
   "outputs": [
    {
     "name": "stdout",
     "output_type": "stream",
     "text": [
      "CPU times: user 2min 41s, sys: 1.92 s, total: 2min 43s\n",
      "Wall time: 2min 43s\n"
     ]
    }
   ],
   "source": [
    "%%time\n",
    "data2 = prep_ngram_data(flist,keywords,inp)"
   ]
  },
  {
   "cell_type": "code",
   "execution_count": 11,
   "metadata": {},
   "outputs": [
    {
     "data": {
      "text/plain": [
       "tamang-language-court       0.0\n",
       "tamang-language-school      3.0\n",
       "newar-language-court        3.0\n",
       "newar-language-school       3.0\n",
       "bhojpuri-language-court     0.0\n",
       "bhojpuri-language-school    3.0\n",
       "maithili-language-court     3.0\n",
       "maithili-language-school    5.0\n",
       "gurung-language-court       1.0\n",
       "gurung-language-school      4.0\n",
       "dtype: float64"
      ]
     },
     "execution_count": 11,
     "metadata": {},
     "output_type": "execute_result"
    }
   ],
   "source": [
    "data2.sum()"
   ]
  },
  {
   "cell_type": "code",
   "execution_count": 14,
   "metadata": {},
   "outputs": [
    {
     "name": "stdout",
     "output_type": "stream",
     "text": [
      "The draw time for this plot will be slow for clients without much RAM.\n"
     ]
    },
    {
     "name": "stderr",
     "output_type": "stream",
     "text": [
      "/home/alal/anaconda3/lib/python3.6/site-packages/plotly/api/v1/clientresp.py:40: UserWarning:\n",
      "\n",
      "Estimated Draw Time Slow\n",
      "\n"
     ]
    },
    {
     "data": {
      "text/html": [
       "<iframe id=\"igraph\" scrolling=\"no\" style=\"border:none;\" seamless=\"seamless\" src=\"https://plot.ly/~apoorvalal/87.embed\" height=\"525px\" width=\"100%\"></iframe>"
      ],
      "text/plain": [
       "<plotly.tools.PlotlyDisplay object>"
      ]
     },
     "execution_count": 14,
     "metadata": {},
     "output_type": "execute_result"
    }
   ],
   "source": [
    "plot_interactive(data2)"
   ]
  },
  {
   "cell_type": "code",
   "execution_count": null,
   "metadata": {},
   "outputs": [],
   "source": []
  }
 ],
 "metadata": {
  "kernelspec": {
   "display_name": "Python 3",
   "language": "python",
   "name": "python3"
  },
  "language_info": {
   "codemirror_mode": {
    "name": "ipython",
    "version": 3
   },
   "file_extension": ".py",
   "mimetype": "text/x-python",
   "name": "python",
   "nbconvert_exporter": "python",
   "pygments_lexer": "ipython3",
   "version": "3.6.3"
  }
 },
 "nbformat": 4,
 "nbformat_minor": 2
}
