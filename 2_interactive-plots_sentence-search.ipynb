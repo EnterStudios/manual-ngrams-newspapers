{
 "cells": [
  {
   "cell_type": "code",
   "execution_count": 1,
   "metadata": {
    "collapsed": true,
    "scrolled": true
   },
   "outputs": [],
   "source": [
    "#%% libraries\n",
    "import os\n",
    "import itertools\n",
    "import re\n",
    "\n",
    "import pandas as pd\n",
    "import numpy as np\n",
    "import matplotlib.pyplot as plt\n",
    "import seaborn as sns \n",
    "\n",
    "import plotly.plotly as py\n",
    "import plotly.graph_objs as go\n",
    "\n",
    "from datetime import datetime\n",
    "%matplotlib inline\n",
    "\n",
    "# run for jupyter notebook\n",
    "from IPython.core.interactiveshell import InteractiveShell\n",
    "InteractiveShell.ast_node_interactivity = 'all'"
   ]
  },
  {
   "cell_type": "markdown",
   "metadata": {},
   "source": [
    "### functions"
   ]
  },
  {
   "cell_type": "code",
   "execution_count": 2,
   "metadata": {
    "collapsed": true
   },
   "outputs": [],
   "source": [
    "def date_stitcher(prefix,ext,ybegin, yend,\n",
    "                  months = ['{num:02d}'.format(num=x) for x in range(1, 13)], \n",
    "                  days= ['{num:02d}'.format(num=x) for x in range(1, 32)] ):\n",
    "    years = [str(x) for x in range(ybegin, yend)]\n",
    "    filelist = []\n",
    "    combinations = list(itertools.product(years, months, days))\n",
    "    for combination in combinations:\n",
    "        arguments = \"_\".join(combination)\n",
    "        command = prefix + arguments + ext\n",
    "        filelist.append(command)\n",
    "    return filelist"
   ]
  },
  {
   "cell_type": "code",
   "execution_count": 3,
   "metadata": {},
   "outputs": [],
   "source": [
    "def lines_with_words(infile, tup):\n",
    "    file = open(infile,'r') \n",
    "    count = 0\n",
    "    p = r'^'\n",
    "    # stitch together string literal for arbitrary list of arguments\n",
    "    for arg in tup:\n",
    "        p = p + '(?=.*{0}).*'.format(arg)\n",
    "    p = p+'$'\n",
    "    #  string literal looks like r'^(?=.*{0}).*(?=.*{1}).*$'.format(word1,word2,...)\n",
    "    # regexes are witchcraft\n",
    "    r = re.compile(p)\n",
    "    \n",
    "    for line in file:\n",
    "        if len(re.findall(r,line)) > 0:\n",
    "            count += 1\n",
    "    \n",
    "    return count"
   ]
  },
  {
   "cell_type": "code",
   "execution_count": 4,
   "metadata": {},
   "outputs": [],
   "source": [
    "def kw_tuple_search(flist, inpdir, listOfTuples):\n",
    "    # initialise dataframe\n",
    "    tallies = pd.DataFrame(flist, columns=['file']).set_index('file')\n",
    "    tallies['exists']=np.nan\n",
    "    for kw in listOfTuples:\n",
    "        colname = '-'.join(kw)        \n",
    "        tallies[colname] = np.nan\n",
    "    \n",
    "    # count in all files\n",
    "    for infile in flist:\n",
    "        file = inpdir + '/' + infile\n",
    "        exist_flag = os.path.exists(file)\n",
    "        if exist_flag:\n",
    "            tallies.at[infile, 'exists'] = 1\n",
    "            for kw in listOfTuples:\n",
    "                try:\n",
    "                    colname = '-'.join(kw)        \n",
    "                    tally = lines_with_words(file,kw)\n",
    "                    tallies.at[infile, colname] = tally                    \n",
    "                except:\n",
    "                    continue\n",
    "        else:\n",
    "            tallies.at[infile, 'exists'] = 0\n",
    "            continue\n",
    "    # subset to nonempty rows\n",
    "    data = tallies[(tallies['exists']==1)]\n",
    "    return(data)\n"
   ]
  },
  {
   "cell_type": "code",
   "execution_count": 5,
   "metadata": {
    "collapsed": true
   },
   "outputs": [],
   "source": [
    "def prep_ngram_data(flist,keywords,inp):\n",
    "    data = kw_tuple_search(flist,inp,keywords)\n",
    "    # this will print a barrage of warnings\n",
    "    data.reset_index(level=0, inplace=True)\n",
    "    data.file = data.file.str[14:24] # hacky - relies on particular naming format\n",
    "    data['date']=pd.to_datetime(data['file'], format='%Y_%m_%d')\n",
    "    \n",
    "    data.drop(['file','exists'],axis=1,inplace=True)\n",
    "    clean = data.set_index('date')\n",
    "    \n",
    "    return(clean)"
   ]
  },
  {
   "cell_type": "markdown",
   "metadata": {},
   "source": [
    "## interactive plots \n",
    "(uses plotly - please submit an issue to github repo if the plots are 404 )"
   ]
  },
  {
   "cell_type": "code",
   "execution_count": 6,
   "metadata": {},
   "outputs": [],
   "source": [
    "def plot_interactive(df,header='Appearances same sentence in TKP archive'):\n",
    "    data = []\n",
    "    vars = list(df)\n",
    "    for v in vars:\n",
    "        data.append(go.Scatter(x = df.index,y = df[v],name=v))\n",
    "    \n",
    "    layout = dict(\n",
    "        title=header,\n",
    "        xaxis=dict(\n",
    "            rangeselector=dict(\n",
    "                buttons=list([\n",
    "                    dict(count=1,label='1m',step='month',stepmode='backward'),\n",
    "                    dict(count=6,label='6m',step='month',stepmode='backward'),\n",
    "                    dict(count=1,label='YTD',step='year',stepmode='todate'),\n",
    "                    dict(count=1,label='1y',step='year',stepmode='backward'),\n",
    "                    dict(count=2,label='2y',step='year',stepmode='backward'),\n",
    "                    dict(step='all')\n",
    "                ])\n",
    "            ),\n",
    "            rangeslider=dict(),\n",
    "            type='date'\n",
    "        )\n",
    "    )\n",
    "    fig = dict(data=data, layout=layout)\n",
    "    return py.iplot(fig)"
   ]
  },
  {
   "cell_type": "code",
   "execution_count": 7,
   "metadata": {
    "collapsed": true
   },
   "outputs": [],
   "source": [
    "# preliminaries\n",
    "working = '/media/alal/LAL_DATA/Newspapers/The Kathmandu Post'\n",
    "os.chdir(working)\n",
    "tmp = '/home/alal/tmp'\n",
    "inp = working + '/word_frequencies'\n",
    "\n",
    "flist = date_stitcher('sentences_TKP_','.txt',2007, 2018)\n",
    "inp = working + '/sentences'"
   ]
  },
  {
   "cell_type": "code",
   "execution_count": 8,
   "metadata": {},
   "outputs": [
    {
     "data": {
      "text/plain": [
       "[('landslide', 'casualty'),\n",
       " ('landslide', 'dead'),\n",
       " ('landslide', 'death'),\n",
       " ('landslide', 'injury'),\n",
       " ('landslide', 'injured'),\n",
       " ('flood', 'casualty'),\n",
       " ('flood', 'dead'),\n",
       " ('flood', 'death'),\n",
       " ('flood', 'injury'),\n",
       " ('flood', 'injured'),\n",
       " ('earthquake', 'casualty'),\n",
       " ('earthquake', 'dead'),\n",
       " ('earthquake', 'death'),\n",
       " ('earthquake', 'injury'),\n",
       " ('earthquake', 'injured'),\n",
       " ('fire', 'casualty'),\n",
       " ('fire', 'dead'),\n",
       " ('fire', 'death'),\n",
       " ('fire', 'injury'),\n",
       " ('fire', 'injured'),\n",
       " ('avalanche', 'casualty'),\n",
       " ('avalanche', 'dead'),\n",
       " ('avalanche', 'death'),\n",
       " ('avalanche', 'injury'),\n",
       " ('avalanche', 'injured')]"
      ]
     },
     "execution_count": 8,
     "metadata": {},
     "output_type": "execute_result"
    }
   ],
   "source": [
    "disasters   = ['landslide', 'flood', 'earthquake', 'fire', 'avalanche']\n",
    "verbs_nouns = ['casualty', 'dead', 'death', 'injury', 'injured']\n",
    "keywords = list(itertools.product(disasters, verbs_nouns))\n",
    "keywords"
   ]
  },
  {
   "cell_type": "code",
   "execution_count": 9,
   "metadata": {},
   "outputs": [
    {
     "name": "stdout",
     "output_type": "stream",
     "text": [
      "CPU times: user 6min 39s, sys: 7.45 s, total: 6min 47s\n",
      "Wall time: 6min 53s\n"
     ]
    }
   ],
   "source": [
    "%%time\n",
    "clean = prep_ngram_data(flist,keywords,inp)"
   ]
  },
  {
   "cell_type": "code",
   "execution_count": 10,
   "metadata": {},
   "outputs": [
    {
     "name": "stdout",
     "output_type": "stream",
     "text": [
      "The draw time for this plot will be slow for all clients.\n"
     ]
    },
    {
     "name": "stderr",
     "output_type": "stream",
     "text": [
      "/home/alal/anaconda3/lib/python3.6/site-packages/plotly/api/v1/clientresp.py:40: UserWarning:\n",
      "\n",
      "Estimated Draw Time Too Long\n",
      "\n"
     ]
    },
    {
     "data": {
      "text/html": [
       "<iframe id=\"igraph\" scrolling=\"no\" style=\"border:none;\" seamless=\"seamless\" src=\"https://plot.ly/~apoorvalal/93.embed\" height=\"525px\" width=\"100%\"></iframe>"
      ],
      "text/plain": [
       "<plotly.tools.PlotlyDisplay object>"
      ]
     },
     "execution_count": 10,
     "metadata": {},
     "output_type": "execute_result"
    }
   ],
   "source": [
    "plot_interactive(clean)"
   ]
  },
  {
   "cell_type": "code",
   "execution_count": null,
   "metadata": {},
   "outputs": [],
   "source": []
  }
 ],
 "metadata": {
  "kernelspec": {
   "display_name": "Python 3",
   "language": "python",
   "name": "python3"
  },
  "language_info": {
   "codemirror_mode": {
    "name": "ipython",
    "version": 3
   },
   "file_extension": ".py",
   "mimetype": "text/x-python",
   "name": "python",
   "nbconvert_exporter": "python",
   "pygments_lexer": "ipython3",
   "version": "3.6.4"
  }
 },
 "nbformat": 4,
 "nbformat_minor": 2
}
