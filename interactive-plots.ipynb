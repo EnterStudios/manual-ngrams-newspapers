{
 "cells": [
  {
   "cell_type": "code",
   "execution_count": 13,
   "metadata": {
    "scrolled": true
   },
   "outputs": [],
   "source": [
    "#%% libraries\n",
    "import os\n",
    "import sys\n",
    "import glob\n",
    "import itertools\n",
    "import textract\n",
    "import nltk\n",
    "from nltk.corpus import stopwords\n",
    "import string\n",
    "import pandas as pd\n",
    "import numpy as np\n",
    "import matplotlib.pyplot as plt\n",
    "import seaborn as sns \n",
    "\n",
    "import plotly.plotly as py\n",
    "import plotly.graph_objs as go\n",
    "\n",
    "from datetime import datetime\n",
    "%matplotlib inline\n",
    "\n",
    "# run for jupyter notebook\n",
    "from IPython.core.interactiveshell import InteractiveShell\n",
    "InteractiveShell.ast_node_interactivity = 'all'"
   ]
  },
  {
   "cell_type": "code",
   "execution_count": 9,
   "metadata": {
    "collapsed": true
   },
   "outputs": [],
   "source": [
    "def date_stitcher(ybegin, yend,\n",
    "                  months = ['{num:02d}'.format(num=x) for x in range(1, 13)], \n",
    "                  days= ['{num:02d}'.format(num=x) for x in range(1, 32)] ):\n",
    "    years = [str(x) for x in range(ybegin, yend)]\n",
    "    filelist = []\n",
    "    combinations = list(itertools.product(years, months, days))\n",
    "    for combination in combinations:\n",
    "        arguments = \"_\".join(combination)\n",
    "        command = 'wfreqs_TKP_' + arguments + '.csv'\n",
    "        filelist.append(command)\n",
    "    return filelist\n",
    "\n",
    "\n",
    "def kw_search(flist, keywords, inpdir,fuzzymatch=False,verbose=False):\n",
    "    freqcols = ['word', 'freq']\n",
    "    # initialise dataframe\n",
    "    tallies = pd.DataFrame(flist, columns=['file']).set_index('file')\n",
    "    tallies['exists']=np.nan\n",
    "    for kw in keywords:\n",
    "        tallies[kw] = np.nan\n",
    "    # count in all files\n",
    "    for infile in flist:\n",
    "        file = inpdir + '/' + infile\n",
    "        exist_flag = os.path.exists(file)\n",
    "        if exist_flag:\n",
    "            tallies.at[infile, 'exists'] = 1\n",
    "            tkp = pd.read_csv(file, usecols=freqcols, index_col='word')\n",
    "            for kw in keywords:\n",
    "                try:\n",
    "                    # fuzzy match \n",
    "                    if fuzzymatch:\n",
    "                        tkp['word'] = tkp.index\n",
    "                        tallies.at[infile, kw] = tkp[tkp['word'].str.contains(kw)]['freq'].sum()\n",
    "                    else:\n",
    "                    # strict match\n",
    "                        tallies.at[infile, kw] = pd.to_numeric(tkp.loc[kw])[0]\n",
    "                    \n",
    "                except:\n",
    "                    continue\n",
    "            if verbose: print(infile, 'loaded and searched')\n",
    "            del tkp\n",
    "        else:\n",
    "            tallies.at[infile, 'exists'] = 0\n",
    "            if verbose: print(infile, ' does not exist')\n",
    "            continue\n",
    "    # subset to nonempty rows\n",
    "    data = tallies[(tallies['exists']==1)]\n",
    "    return(data)\n",
    "\n",
    "def prep_ngram_data(flist,keywords,inp,fuzzymatch=False):\n",
    "    data = kw_search(flist, keywords, inp, fuzzymatch)\n",
    "    # this will print a barrage of warnings \n",
    "    data.reset_index(level=0, inplace=True)\n",
    "    data.file = data.file.str[11:21]\n",
    "    data['date']=pd.to_datetime(data['file'], format='%Y_%m_%d')\n",
    "    keepvars = ['date']+keywords\n",
    "    clean = data[keepvars].set_index('date')\n",
    "    return(clean)"
   ]
  },
  {
   "cell_type": "code",
   "execution_count": 17,
   "metadata": {
    "collapsed": true
   },
   "outputs": [],
   "source": [
    "# preliminaries\n",
    "working = '/media/alal/NEPALINEWS/The Kathmandu Post'\n",
    "os.chdir(working)\n",
    "tmp = '/home/alal/tmp'\n",
    "inp = '/media/alal/NEPALINEWS/The Kathmandu Post/word_frequencies'\n",
    "\n",
    "# set up list for date ranges\n",
    "flist = date_stitcher(2007, 2018)\n",
    "keywords = ['language', 'bhasa', 'maithili','newar', 'tharu', 'tamang']\n",
    "langs_nep = ['maithili', 'bhojpuri', 'tharu', 'tamang', 'newar', 'bajjika', 'magar','dotyali', 'urdu', 'awadhi', 'limbu', 'gurung', 'baitadeli', 'rai', 'aachami']"
   ]
  },
  {
   "cell_type": "code",
   "execution_count": 18,
   "metadata": {},
   "outputs": [
    {
     "name": "stdout",
     "output_type": "stream",
     "text": [
      "CPU times: user 1min 26s, sys: 144 ms, total: 1min 26s\n",
      "Wall time: 1min 26s\n"
     ]
    }
   ],
   "source": [
    "%%time\n",
    "clean = prep_ngram_data(flist,keywords,inp,fuzzymatch=True)"
   ]
  },
  {
   "cell_type": "markdown",
   "metadata": {},
   "source": [
    "# Interactive Plot"
   ]
  },
  {
   "cell_type": "code",
   "execution_count": 19,
   "metadata": {
    "collapsed": true
   },
   "outputs": [],
   "source": [
    "def plot_interactive(vars):\n",
    "    data = []\n",
    "    for v in vars:\n",
    "        data.append(go.Scatter(\n",
    "            x = clean.index,\n",
    "            y = clean[v],\n",
    "            name=v\n",
    "        ))\n",
    "    \n",
    "    layout = dict(\n",
    "        title='Appearance in TKP archive:' + \",\".join(vars),\n",
    "        \n",
    "        xaxis=dict(\n",
    "            rangeselector=dict(\n",
    "                buttons=list([\n",
    "                    dict(count=1,\n",
    "                         label='1m',\n",
    "                         step='month',\n",
    "                         stepmode='backward'),\n",
    "                    dict(count=6,\n",
    "                         label='6m',\n",
    "                         step='month',\n",
    "                         stepmode='backward'),\n",
    "                    dict(count=1,\n",
    "                        label='YTD',\n",
    "                        step='year',\n",
    "                        stepmode='todate'),\n",
    "                    dict(count=1,\n",
    "                        label='1y',\n",
    "                        step='year',\n",
    "                        stepmode='backward'),\n",
    "                    dict(step='all')\n",
    "                ])\n",
    "            ),\n",
    "            rangeslider=dict(),\n",
    "            type='date'\n",
    "        )\n",
    "    )\n",
    "    fig = dict(data=data, layout=layout)\n",
    "    return py.iplot(fig)"
   ]
  },
  {
   "cell_type": "code",
   "execution_count": 20,
   "metadata": {},
   "outputs": [
    {
     "data": {
      "text/html": [
       "<iframe id=\"igraph\" scrolling=\"no\" style=\"border:none;\" seamless=\"seamless\" src=\"https://plot.ly/~apoorvalal/41.embed\" height=\"525px\" width=\"100%\"></iframe>"
      ],
      "text/plain": [
       "<plotly.tools.PlotlyDisplay object>"
      ]
     },
     "execution_count": 20,
     "metadata": {},
     "output_type": "execute_result"
    }
   ],
   "source": [
    "keywords = ['language', 'bhasa', 'maithili','newar', 'tharu', 'tamang']\n",
    "plot_interactive(keywords)"
   ]
  },
  {
   "cell_type": "code",
   "execution_count": null,
   "metadata": {
    "collapsed": true
   },
   "outputs": [],
   "source": []
  }
 ],
 "metadata": {
  "kernelspec": {
   "display_name": "Python 3",
   "language": "python",
   "name": "python3"
  },
  "language_info": {
   "codemirror_mode": {
    "name": "ipython",
    "version": 3
   },
   "file_extension": ".py",
   "mimetype": "text/x-python",
   "name": "python",
   "nbconvert_exporter": "python",
   "pygments_lexer": "ipython3",
   "version": "3.6.3"
  }
 },
 "nbformat": 4,
 "nbformat_minor": 2
}
