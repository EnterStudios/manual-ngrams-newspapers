{
 "cells": [
  {
   "cell_type": "code",
   "execution_count": 6,
   "metadata": {
    "collapsed": true
   },
   "outputs": [],
   "source": [
    "#%% libraries\n",
    "import os\n",
    "import sys\n",
    "import glob\n",
    "import itertools\n",
    "import textract\n",
    "import nltk\n",
    "from nltk.corpus import stopwords\n",
    "import string\n",
    "import pandas as pd\n",
    "import numpy as np\n",
    "import matplotlib.pyplot as plt\n",
    "%matplotlib inline\n",
    "\n",
    "# run for jupyter notebook\n",
    "from IPython.core.interactiveshell import InteractiveShell\n",
    "InteractiveShell.ast_node_interactivity = 'all'"
   ]
  },
  {
   "cell_type": "markdown",
   "metadata": {},
   "source": [
    "#### Wrappers for textract functions "
   ]
  },
  {
   "cell_type": "code",
   "execution_count": 7,
   "metadata": {
    "collapsed": true
   },
   "outputs": [],
   "source": [
    "#%% reader functions\n",
    "def pdf_to_txt(inpath, outpath):\n",
    "    text = textract.process(inpath, method='pdftotext')\n",
    "    \n",
    "    base = os.path.abspath(inpath)\n",
    "    wdir, fname = outpath, os.path.split(base)[1]\n",
    "    writepath = wdir + '/' + fname.split('.')[0] + '.txt'\n",
    "\n",
    "    with open(writepath, 'wb') as f:\n",
    "        f.write(text)\n",
    "\n",
    "def read_pdf(inpath):\n",
    "    text = textract.process(inpath, method='pdftotext')\n",
    "    return text"
   ]
  },
  {
   "cell_type": "markdown",
   "metadata": {},
   "source": [
    "#### utility functions"
   ]
  },
  {
   "cell_type": "code",
   "execution_count": 8,
   "metadata": {
    "collapsed": true
   },
   "outputs": [],
   "source": [
    "import math\n",
    "\n",
    "def convert_size(size_bytes):\n",
    "   if size_bytes == 0:\n",
    "       return \"0B\"\n",
    "   size_name = (\"B\", \"KB\", \"MB\", \"GB\", \"TB\", \"PB\", \"EB\", \"ZB\", \"YB\")\n",
    "   i = int(math.floor(math.log(size_bytes, 1024)))\n",
    "   p = math.pow(1024, i)\n",
    "   s = round(size_bytes / p, 2)\n",
    "   return \"%s %s\" % (s, size_name[i])"
   ]
  },
  {
   "cell_type": "markdown",
   "metadata": {},
   "source": [
    "## Set working directory, Preliminaries"
   ]
  },
  {
   "cell_type": "code",
   "execution_count": 9,
   "metadata": {},
   "outputs": [
    {
     "data": {
      "text/plain": [
       "'/media/alal/NEPALINEWS/The Kathmandu Post'"
      ]
     },
     "execution_count": 9,
     "metadata": {},
     "output_type": "execute_result"
    }
   ],
   "source": [
    "root = '/media/alal/NEPALINEWS/The Kathmandu Post'\n",
    "os.chdir(root)\n",
    "\n",
    "#%% directories\n",
    "input = root \n",
    "output = root + '/raw_txts/'\n",
    "\n",
    "if not os.path.exists(output):\n",
    "    os.makedirs(output)\n",
    "\n",
    "%pwd()"
   ]
  },
  {
   "cell_type": "markdown",
   "metadata": {},
   "source": [
    "*Construct list of files from all subdirectories, store file sizes in dictionary*"
   ]
  },
  {
   "cell_type": "code",
   "execution_count": 10,
   "metadata": {
    "collapsed": true
   },
   "outputs": [],
   "source": [
    "pdfs = []\n",
    "sizes = {}\n",
    "\n",
    "for root, dirs, files in os.walk(input):\n",
    "    for file in files:\n",
    "        if file.endswith(\".pdf\") and file[0] != '.':\n",
    "            ff = os.path.join(root, file)\n",
    "            pdfs.append(ff)\n",
    "            size = os.path.getsize(ff) # in bytes\n",
    "            sizes[file] = size"
   ]
  },
  {
   "cell_type": "code",
   "execution_count": 11,
   "metadata": {},
   "outputs": [
    {
     "data": {
      "text/plain": [
       "<matplotlib.axes._subplots.AxesSubplot at 0x7f26c04a6160>"
      ]
     },
     "execution_count": 11,
     "metadata": {},
     "output_type": "execute_result"
    },
    {
     "data": {
      "text/plain": [
       "'1010.07 KB'"
      ]
     },
     "execution_count": 11,
     "metadata": {},
     "output_type": "execute_result"
    },
    {
     "data": {
      "text/plain": [
       "'395.38 MB'"
      ]
     },
     "execution_count": 11,
     "metadata": {},
     "output_type": "execute_result"
    },
    {
     "data": {
      "image/png": "[encoded data removed]",
      "text/plain": [
       "<matplotlib.figure.Figure at 0x7f26c03e8630>"
      ]
     },
     "metadata": {},
     "output_type": "display_data"
    }
   ],
   "source": [
    "ser = pd.Series(sizes)\n",
    "ser.plot.density()\n",
    "convert_size(ser.min())\n",
    "convert_size(ser.max())"
   ]
  },
  {
   "cell_type": "markdown",
   "metadata": {},
   "source": [
    "## Bulk convert all pdfs in root - only run once\n",
    "### Runtime ~= 30 mins"
   ]
  },
  {
   "cell_type": "markdown",
   "metadata": {},
   "source": [
    "*bulk convert, experimenting with embarrasingly parallel execution*"
   ]
  },
  {
   "cell_type": "code",
   "execution_count": 12,
   "metadata": {
    "collapsed": true
   },
   "outputs": [],
   "source": [
    "from joblib import Parallel, delayed\n",
    "import multiprocessing\n",
    "num_cores = multiprocessing.cpu_count()"
   ]
  },
  {
   "cell_type": "code",
   "execution_count": 8,
   "metadata": {},
   "outputs": [
    {
     "name": "stdout",
     "output_type": "stream",
     "text": [
      "CPU times: user 1.94 s, sys: 300 ms, total: 2.24 s\n",
      "Wall time: 28min 9s\n"
     ]
    }
   ],
   "source": [
    "%%time\n",
    "results = Parallel(n_jobs=num_cores)(delayed(pdf_to_txt)(p,output) \\\n",
    "                                     for p in pdfs)"
   ]
  },
  {
   "cell_type": "markdown",
   "metadata": {},
   "source": [
    "## Construct word frequencies and write dataframes"
   ]
  },
  {
   "cell_type": "code",
   "execution_count": 20,
   "metadata": {
    "collapsed": true
   },
   "outputs": [],
   "source": [
    "# pick file, remove punctuation and stopwords\n",
    "tmp = '/home/alal/tmp'\n",
    "inp = '/media/alal/NEPALINEWS/The Kathmandu Post/raw_txts'\n",
    "out = '/media/alal/NEPALINEWS/The Kathmandu Post/word_frequencies/'\n",
    "\n",
    "if not os.path.exists(out):\n",
    "    os.makedirs(out)"
   ]
  },
  {
   "cell_type": "code",
   "execution_count": 3,
   "metadata": {
    "collapsed": true
   },
   "outputs": [],
   "source": [
    "def write_word_freqs(inputfile,outdir):\n",
    "    filterout= set(stopwords.words('english')+\n",
    "               list(string.punctuation)+\n",
    "               ['\\'\\'','``','\\'s','’',\"“\",\"”\",\n",
    "                'the','said','nepal','world','kathmandu'])\n",
    "    cols = ['word','freq']\n",
    "\n",
    "    base = os.path.abspath(inputfile)\n",
    "    wdir, fname = outdir, os.path.split(base)[1]\n",
    "    writepath = wdir + '/wfreqs_' + fname.split('.')[0] + '.csv'\n",
    "\n",
    "    f = open(inputfile)\n",
    "    raw = f.read()\n",
    "    tokens = [token.lower() for token in nltk.word_tokenize(raw)]\n",
    "    cleaned = [token for token in tokens if token not in filterout]\n",
    "    \n",
    "    fdict = dict(nltk.FreqDist(cleaned))\n",
    "    df = pd.DataFrame(list(fdict.items()),columns=cols)\n",
    "    df = df.sort_values('freq',ascending=0)\n",
    "    \n",
    "    df.to_csv(writepath,columns=['word','freq'])"
   ]
  },
  {
   "cell_type": "code",
   "execution_count": 5,
   "metadata": {
    "collapsed": true
   },
   "outputs": [],
   "source": [
    "files = glob.glob(inp+'/TKP_*.txt')"
   ]
  },
  {
   "cell_type": "markdown",
   "metadata": {},
   "source": [
    "*parallelize again * "
   ]
  },
  {
   "cell_type": "code",
   "execution_count": 20,
   "metadata": {
    "collapsed": true
   },
   "outputs": [],
   "source": [
    "from joblib import Parallel, delayed\n",
    "import multiprocessing\n",
    "num_cores = multiprocessing.cpu_count()"
   ]
  },
  {
   "cell_type": "code",
   "execution_count": 10,
   "metadata": {},
   "outputs": [
    {
     "name": "stdout",
     "output_type": "stream",
     "text": [
      "CPU times: user 976 ms, sys: 96 ms, total: 1.07 s\n",
      "Wall time: 4min 37s\n"
     ]
    }
   ],
   "source": [
    "%%time\n",
    "results = Parallel(n_jobs=num_cores)(delayed(write_word_freqs)(i,out) \\\n",
    "                                     for i in files)"
   ]
  },
  {
   "cell_type": "markdown",
   "metadata": {},
   "source": [
    "## Search for keywords"
   ]
  },
  {
   "cell_type": "code",
   "execution_count": 12,
   "metadata": {
    "collapsed": true
   },
   "outputs": [],
   "source": [
    "def date_stitcher(years, months, days):\n",
    "    filelist = []\n",
    "    combinations = list(itertools.product(years, months, days))\n",
    "    for combination in combinations:\n",
    "        arguments = \"_\".join(combination)\n",
    "        command = 'wfreqs_TKP_' + arguments + '.csv'\n",
    "        filelist.append(command)\n",
    "    return filelist\n",
    "\n",
    "\n",
    "def kw_search(flist, keywords, inpdir, verbose=False):\n",
    "    freqcols = ['word', 'freq']\n",
    "    tallies = pd.DataFrame(flist, columns=['file']).set_index('file')\n",
    "    tallies['exists']=np.nan\n",
    "    for kw in keywords:\n",
    "        tallies[kw] = np.nan\n",
    "\n",
    "    for infile in flist:\n",
    "        file = inpdir + '/' + infile\n",
    "        exist_flag = os.path.exists(file)\n",
    "        if exist_flag:\n",
    "            tallies.at[infile, 'exists'] = 1\n",
    "            tkp = pd.read_csv(file, usecols=freqcols, index_col='word')\n",
    "            for kw in keywords:\n",
    "                try:\n",
    "                    a = pd.to_numeric(tkp.loc[kw])\n",
    "                    tallies.at[infile, kw] = a[0]  # hacky - must be 1 element series\n",
    "                except:\n",
    "                    continue\n",
    "            if verbose: print(infile, 'loaded and searched')\n",
    "        else:\n",
    "            tallies.at[infile, 'exists'] = 0\n",
    "            if verbose: print(infile, ' does not exist')\n",
    "            continue\n",
    "\n",
    "    return(tallies)"
   ]
  },
  {
   "cell_type": "code",
   "execution_count": 13,
   "metadata": {},
   "outputs": [
    {
     "data": {
      "text/plain": [
       "4092"
      ]
     },
     "execution_count": 13,
     "metadata": {},
     "output_type": "execute_result"
    }
   ],
   "source": [
    "# preliminaries\n",
    "working = '/media/alal/NEPALINEWS/The Kathmandu Post'\n",
    "os.chdir(working)\n",
    "tmp = '/home/alal/tmp'\n",
    "inp = '/media/alal/NEPALINEWS/The Kathmandu Post/word_frequencies'\n",
    "\n",
    "# set up list for date ranges\n",
    "y = [str(x) for x in range(2007, 2018)]\n",
    "m = ['{num:02d}'.format(num=x) for x in range(1, 13)]\n",
    "d = ['{num:02d}'.format(num=x) for x in range(1, 32)]\n",
    "flist = date_stitcher(y, m, d)\n",
    "len(flist)"
   ]
  },
  {
   "cell_type": "code",
   "execution_count": 14,
   "metadata": {
    "collapsed": true
   },
   "outputs": [],
   "source": [
    "# search all wordcount tables for keyword counts\n",
    "keywords = ['language', 'bhasa', 'maithili', 'tharu', 'tamang']\n",
    "tallies = kw_search(flist, keywords, inp)"
   ]
  },
  {
   "cell_type": "code",
   "execution_count": 15,
   "metadata": {},
   "outputs": [
    {
     "data": {
      "text/plain": [
       "(4092, 6)"
      ]
     },
     "execution_count": 15,
     "metadata": {},
     "output_type": "execute_result"
    },
    {
     "data": {
      "text/plain": [
       "(3508, 6)"
      ]
     },
     "execution_count": 15,
     "metadata": {},
     "output_type": "execute_result"
    }
   ],
   "source": [
    "tallies.shape\n",
    "nonempty = tallies[(tallies['exists']==1)]\n",
    "nonempty.shape\n",
    "nonempty.to_csv(working+'/tallies.csv')"
   ]
  },
  {
   "cell_type": "code",
   "execution_count": 18,
   "metadata": {},
   "outputs": [
    {
     "data": {
      "text/html": [
       "<div>\n",
       "<style>\n",
       "    .dataframe thead tr:only-child th {\n",
       "        text-align: right;\n",
       "    }\n",
       "\n",
       "    .dataframe thead th {\n",
       "        text-align: left;\n",
       "    }\n",
       "\n",
       "    .dataframe tbody tr th {\n",
       "        vertical-align: top;\n",
       "    }\n",
       "</style>\n",
       "<table border=\"1\" class=\"dataframe\">\n",
       "  <thead>\n",
       "    <tr style=\"text-align: right;\">\n",
       "      <th></th>\n",
       "      <th>exists</th>\n",
       "      <th>language</th>\n",
       "      <th>bhasa</th>\n",
       "      <th>maithili</th>\n",
       "      <th>tharu</th>\n",
       "      <th>tamang</th>\n",
       "    </tr>\n",
       "    <tr>\n",
       "      <th>file</th>\n",
       "      <th></th>\n",
       "      <th></th>\n",
       "      <th></th>\n",
       "      <th></th>\n",
       "      <th></th>\n",
       "      <th></th>\n",
       "    </tr>\n",
       "  </thead>\n",
       "  <tbody>\n",
       "    <tr>\n",
       "      <th>wfreqs_TKP_2007_05_27.csv</th>\n",
       "      <td>1.0</td>\n",
       "      <td>1.0</td>\n",
       "      <td>NaN</td>\n",
       "      <td>NaN</td>\n",
       "      <td>NaN</td>\n",
       "      <td>1.0</td>\n",
       "    </tr>\n",
       "    <tr>\n",
       "      <th>wfreqs_TKP_2007_05_28.csv</th>\n",
       "      <td>1.0</td>\n",
       "      <td>2.0</td>\n",
       "      <td>NaN</td>\n",
       "      <td>1.0</td>\n",
       "      <td>NaN</td>\n",
       "      <td>2.0</td>\n",
       "    </tr>\n",
       "    <tr>\n",
       "      <th>wfreqs_TKP_2007_05_29.csv</th>\n",
       "      <td>1.0</td>\n",
       "      <td>NaN</td>\n",
       "      <td>NaN</td>\n",
       "      <td>NaN</td>\n",
       "      <td>NaN</td>\n",
       "      <td>2.0</td>\n",
       "    </tr>\n",
       "    <tr>\n",
       "      <th>wfreqs_TKP_2007_05_30.csv</th>\n",
       "      <td>1.0</td>\n",
       "      <td>2.0</td>\n",
       "      <td>NaN</td>\n",
       "      <td>NaN</td>\n",
       "      <td>NaN</td>\n",
       "      <td>NaN</td>\n",
       "    </tr>\n",
       "    <tr>\n",
       "      <th>wfreqs_TKP_2007_05_31.csv</th>\n",
       "      <td>1.0</td>\n",
       "      <td>2.0</td>\n",
       "      <td>NaN</td>\n",
       "      <td>NaN</td>\n",
       "      <td>NaN</td>\n",
       "      <td>4.0</td>\n",
       "    </tr>\n",
       "    <tr>\n",
       "      <th>wfreqs_TKP_2007_06_01.csv</th>\n",
       "      <td>1.0</td>\n",
       "      <td>7.0</td>\n",
       "      <td>NaN</td>\n",
       "      <td>NaN</td>\n",
       "      <td>NaN</td>\n",
       "      <td>NaN</td>\n",
       "    </tr>\n",
       "    <tr>\n",
       "      <th>wfreqs_TKP_2007_06_02.csv</th>\n",
       "      <td>1.0</td>\n",
       "      <td>3.0</td>\n",
       "      <td>NaN</td>\n",
       "      <td>NaN</td>\n",
       "      <td>NaN</td>\n",
       "      <td>1.0</td>\n",
       "    </tr>\n",
       "    <tr>\n",
       "      <th>wfreqs_TKP_2007_06_03.csv</th>\n",
       "      <td>1.0</td>\n",
       "      <td>6.0</td>\n",
       "      <td>NaN</td>\n",
       "      <td>NaN</td>\n",
       "      <td>NaN</td>\n",
       "      <td>NaN</td>\n",
       "    </tr>\n",
       "    <tr>\n",
       "      <th>wfreqs_TKP_2007_06_04.csv</th>\n",
       "      <td>1.0</td>\n",
       "      <td>6.0</td>\n",
       "      <td>NaN</td>\n",
       "      <td>NaN</td>\n",
       "      <td>NaN</td>\n",
       "      <td>1.0</td>\n",
       "    </tr>\n",
       "    <tr>\n",
       "      <th>wfreqs_TKP_2007_06_05.csv</th>\n",
       "      <td>1.0</td>\n",
       "      <td>3.0</td>\n",
       "      <td>NaN</td>\n",
       "      <td>NaN</td>\n",
       "      <td>NaN</td>\n",
       "      <td>NaN</td>\n",
       "    </tr>\n",
       "  </tbody>\n",
       "</table>\n",
       "</div>"
      ],
      "text/plain": [
       "                           exists  language  bhasa  maithili  tharu  tamang\n",
       "file                                                                       \n",
       "wfreqs_TKP_2007_05_27.csv     1.0       1.0    NaN       NaN    NaN     1.0\n",
       "wfreqs_TKP_2007_05_28.csv     1.0       2.0    NaN       1.0    NaN     2.0\n",
       "wfreqs_TKP_2007_05_29.csv     1.0       NaN    NaN       NaN    NaN     2.0\n",
       "wfreqs_TKP_2007_05_30.csv     1.0       2.0    NaN       NaN    NaN     NaN\n",
       "wfreqs_TKP_2007_05_31.csv     1.0       2.0    NaN       NaN    NaN     4.0\n",
       "wfreqs_TKP_2007_06_01.csv     1.0       7.0    NaN       NaN    NaN     NaN\n",
       "wfreqs_TKP_2007_06_02.csv     1.0       3.0    NaN       NaN    NaN     1.0\n",
       "wfreqs_TKP_2007_06_03.csv     1.0       6.0    NaN       NaN    NaN     NaN\n",
       "wfreqs_TKP_2007_06_04.csv     1.0       6.0    NaN       NaN    NaN     1.0\n",
       "wfreqs_TKP_2007_06_05.csv     1.0       3.0    NaN       NaN    NaN     NaN"
      ]
     },
     "execution_count": 18,
     "metadata": {},
     "output_type": "execute_result"
    },
    {
     "data": {
      "text/plain": [
       "4078"
      ]
     },
     "execution_count": 18,
     "metadata": {},
     "output_type": "execute_result"
    }
   ],
   "source": [
    "tallies[150:160]\n",
    "tallies.isnull().any(axis=1).sum()"
   ]
  },
  {
   "cell_type": "code",
   "execution_count": null,
   "metadata": {
    "collapsed": true
   },
   "outputs": [],
   "source": []
  }
 ],
 "metadata": {
  "kernelspec": {
   "display_name": "Python 3",
   "language": "python",
   "name": "python3"
  },
  "language_info": {
   "codemirror_mode": {
    "name": "ipython",
    "version": 3
   },
   "file_extension": ".py",
   "mimetype": "text/x-python",
   "name": "python",
   "nbconvert_exporter": "python",
   "pygments_lexer": "ipython3",
   "version": "3.6.3"
  }
 },
 "nbformat": 4,
 "nbformat_minor": 2
}
