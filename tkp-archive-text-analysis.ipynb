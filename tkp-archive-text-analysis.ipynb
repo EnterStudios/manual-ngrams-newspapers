{
 "cells": [
  {
   "cell_type": "code",
   "execution_count": 1,
   "metadata": {
    "collapsed": true
   },
   "outputs": [],
   "source": [
    "#%% libraries\n",
    "import os\n",
    "import sys\n",
    "import glob\n",
    "import io\n",
    "import itertools\n",
    "import textract\n",
    "import nltk\n",
    "from nltk.corpus import stopwords\n",
    "import string\n",
    "import pandas as pd\n",
    "import numpy as np\n",
    "import matplotlib.pyplot as plt\n",
    "import seaborn as sns \n",
    "%matplotlib inline\n",
    "\n",
    "# run for jupyter notebook\n",
    "from IPython.core.interactiveshell import InteractiveShell\n",
    "InteractiveShell.ast_node_interactivity = 'all'"
   ]
  },
  {
   "cell_type": "markdown",
   "metadata": {},
   "source": [
    "#### Wrappers for textract functions "
   ]
  },
  {
   "cell_type": "code",
   "execution_count": 21,
   "metadata": {
    "collapsed": true
   },
   "outputs": [],
   "source": [
    "#%% reader functions\n",
    "def pdf_to_txt(inpath, outpath):\n",
    "    try:\n",
    "        text = textract.process(inpath, method='pdftotext')\n",
    "        base = os.path.abspath(inpath)\n",
    "        wdir, fname = outpath, os.path.split(base)[1]\n",
    "        writepath = wdir + '/' + fname.split('.')[0] + '.txt'\n",
    "\n",
    "        with open(writepath, 'wb') as f:\n",
    "            f.write(text)\n",
    "    except:\n",
    "        print(inpath, ' failed')\n",
    "        pass\n",
    "    \n",
    "    \n",
    "def read_pdf(inpath):\n",
    "    text = textract.process(inpath, method='pdftotext')\n",
    "    return text"
   ]
  },
  {
   "cell_type": "markdown",
   "metadata": {},
   "source": [
    "#### utility functions"
   ]
  },
  {
   "cell_type": "code",
   "execution_count": 3,
   "metadata": {
    "collapsed": true
   },
   "outputs": [],
   "source": [
    "import math\n",
    "\n",
    "def convert_size(size_bytes):\n",
    "   if size_bytes == 0:\n",
    "       return \"0B\"\n",
    "   size_name = (\"B\", \"KB\", \"MB\", \"GB\", \"TB\", \"PB\", \"EB\", \"ZB\", \"YB\")\n",
    "   i = int(math.floor(math.log(size_bytes, 1024)))\n",
    "   p = math.pow(1024, i)\n",
    "   s = round(size_bytes / p, 2)\n",
    "   return \"%s %s\" % (s, size_name[i])"
   ]
  },
  {
   "cell_type": "markdown",
   "metadata": {},
   "source": [
    "## Set working directory, Preliminaries"
   ]
  },
  {
   "cell_type": "code",
   "execution_count": 4,
   "metadata": {},
   "outputs": [
    {
     "data": {
      "text/plain": [
       "'/media/alal/LAL_DATA/Newspapers/The Kathmandu Post'"
      ]
     },
     "execution_count": 4,
     "metadata": {},
     "output_type": "execute_result"
    }
   ],
   "source": [
    "root = '/media/alal/LAL_DATA/Newspapers/The Kathmandu Post'\n",
    "os.chdir(root)\n",
    "\n",
    "#%% directories\n",
    "input = root \n",
    "output = root + '/raw_txts/'\n",
    "\n",
    "if not os.path.exists(output):\n",
    "    os.makedirs(output)\n",
    "\n",
    "%pwd()"
   ]
  },
  {
   "cell_type": "markdown",
   "metadata": {},
   "source": [
    "*Construct list of files from all subdirectories, store file sizes in dictionary*"
   ]
  },
  {
   "cell_type": "code",
   "execution_count": 5,
   "metadata": {
    "collapsed": true
   },
   "outputs": [],
   "source": [
    "pdfs = []\n",
    "sizes = {}\n",
    "\n",
    "for root, dirs, files in os.walk(input):\n",
    "    for file in files:\n",
    "        if file.endswith(\".pdf\") and file[0] != '.':\n",
    "            ff = os.path.join(root, file)\n",
    "            pdfs.append(ff)\n",
    "            size = os.path.getsize(ff) # in bytes\n",
    "            sizes[file] = size"
   ]
  },
  {
   "cell_type": "code",
   "execution_count": 6,
   "metadata": {},
   "outputs": [
    {
     "data": {
      "text/plain": [
       "<matplotlib.axes._subplots.AxesSubplot at 0x7ff7a728fd68>"
      ]
     },
     "execution_count": 6,
     "metadata": {},
     "output_type": "execute_result"
    },
    {
     "data": {
      "text/plain": [
       "'1010.07 KB'"
      ]
     },
     "execution_count": 6,
     "metadata": {},
     "output_type": "execute_result"
    },
    {
     "data": {
      "text/plain": [
       "'395.38 MB'"
      ]
     },
     "execution_count": 6,
     "metadata": {},
     "output_type": "execute_result"
    },
    {
     "data": {
      "image/png": "[encoded data removed]",
      "text/plain": [
       "<matplotlib.figure.Figure at 0x7ff7a7242da0>"
      ]
     },
     "metadata": {},
     "output_type": "display_data"
    }
   ],
   "source": [
    "ser = pd.Series(sizes)\n",
    "ser.plot.density()\n",
    "convert_size(ser.min())\n",
    "convert_size(ser.max())"
   ]
  },
  {
   "cell_type": "markdown",
   "metadata": {},
   "source": [
    "## Bulk convert all pdfs in root - only run once\n",
    "### Runtime ~= 30 mins"
   ]
  },
  {
   "cell_type": "markdown",
   "metadata": {},
   "source": [
    "*bulk convert, experimenting with embarrasingly parallel execution*"
   ]
  },
  {
   "cell_type": "code",
   "execution_count": 19,
   "metadata": {
    "collapsed": true
   },
   "outputs": [],
   "source": [
    "from joblib import Parallel, delayed\n",
    "import multiprocessing\n",
    "num_cores = multiprocessing.cpu_count()"
   ]
  },
  {
   "cell_type": "code",
   "execution_count": 22,
   "metadata": {},
   "outputs": [
    {
     "name": "stdout",
     "output_type": "stream",
     "text": [
      "/media/alal/LAL_DATA/Newspapers/The Kathmandu Post/2010/TKP_2010_01_18.pdf  failed\n",
      "/media/alal/LAL_DATA/Newspapers/The Kathmandu Post/2010/TKP_2010_04_15.pdf  failed\n",
      "/media/alal/LAL_DATA/Newspapers/The Kathmandu Post/2010/TKP_2010_05_22.pdf  failed\n",
      "/media/alal/LAL_DATA/Newspapers/The Kathmandu Post/2010/TKP_2010_06_12.pdf  failed\n",
      "/media/alal/LAL_DATA/Newspapers/The Kathmandu Post/2014/TKP_2014_12_24.pdf  failed\n",
      "/media/alal/LAL_DATA/Newspapers/The Kathmandu Post/2015/TKP_2015_01_07.pdf  failed\n",
      "/media/alal/LAL_DATA/Newspapers/The Kathmandu Post/2015/TKP_2015_01_16.pdf  failed\n",
      "/media/alal/LAL_DATA/Newspapers/The Kathmandu Post/2015/TKP_2015_03_14.pdf  failed\n",
      "/media/alal/LAL_DATA/Newspapers/The Kathmandu Post/2015/TKP_2015_08_31.pdf  failed\n",
      "/media/alal/LAL_DATA/Newspapers/The Kathmandu Post/2015/TKP_2015_10_01.pdf  failed\n",
      "/media/alal/LAL_DATA/Newspapers/The Kathmandu Post/2016/TKP_2016_01_06.pdf  failed\n",
      "/media/alal/LAL_DATA/Newspapers/The Kathmandu Post/2016/TKP_2016_01_09.pdf  failed\n",
      "/media/alal/LAL_DATA/Newspapers/The Kathmandu Post/2016/TKP_2016_07_06.pdf  failed\n",
      "/media/alal/LAL_DATA/Newspapers/The Kathmandu Post/2016/TKP_2016_07_11.pdf  failed\n",
      "/media/alal/LAL_DATA/Newspapers/The Kathmandu Post/2016/TKP_2016_08_15.pdf  failed\n",
      "/media/alal/LAL_DATA/Newspapers/The Kathmandu Post/2016/TKP_2016_08_22.pdf  failed\n",
      "/media/alal/LAL_DATA/Newspapers/The Kathmandu Post/2016/TKP_2016_09_19.pdf  failed\n",
      "/media/alal/LAL_DATA/Newspapers/The Kathmandu Post/2016/TKP_2016_11_08.pdf  failed\n",
      "/media/alal/LAL_DATA/Newspapers/The Kathmandu Post/2017/TKP_2017_03_18.pdf  failed\n",
      "CPU times: user 2.17 s, sys: 488 ms, total: 2.65 s\n",
      "Wall time: 32min 1s\n"
     ]
    }
   ],
   "source": [
    "%%time\n",
    "results = Parallel(n_jobs=num_cores)(delayed(pdf_to_txt)(p,output) \\\n",
    "                                     for p in pdfs)"
   ]
  },
  {
   "cell_type": "markdown",
   "metadata": {},
   "source": [
    "## Construct word frequencies and write dataframes"
   ]
  },
  {
   "cell_type": "code",
   "execution_count": 7,
   "metadata": {
    "collapsed": true
   },
   "outputs": [],
   "source": [
    "# pick file, remove punctuation and stopwords\n",
    "tmp = '/home/alal/tmp'\n",
    "inp = root + '/raw_txts'\n",
    "out = root + '/word_frequencies/'\n",
    "\n",
    "if not os.path.exists(out):\n",
    "    os.makedirs(out)"
   ]
  },
  {
   "cell_type": "code",
   "execution_count": 8,
   "metadata": {
    "collapsed": true
   },
   "outputs": [],
   "source": [
    "def write_word_freqs(inputfile,outdir):\n",
    "    filterout= set(stopwords.words('english')+\n",
    "               list(string.punctuation)+\n",
    "               ['\\'\\'','``','\\'s','’',\"“\",\"”\",\n",
    "                'the','said','nepal','world','kathmandu'])\n",
    "    cols = ['word','freq']\n",
    "\n",
    "    base = os.path.abspath(inputfile)\n",
    "    wdir, fname = outdir, os.path.split(base)[1]\n",
    "    writepath = wdir + '/wfreqs_' + fname.split('.')[0] + '.csv'\n",
    "\n",
    "    f = open(inputfile)\n",
    "    raw = f.read()\n",
    "    tokens = [token.lower() for token in nltk.word_tokenize(raw)]\n",
    "    cleaned = [token for token in tokens if token not in filterout]\n",
    "    \n",
    "    fdict = dict(nltk.FreqDist(cleaned))\n",
    "    df = pd.DataFrame(list(fdict.items()),columns=cols)\n",
    "    df = df.sort_values('freq',ascending=0)\n",
    "    \n",
    "    df.to_csv(writepath,columns=['word','freq'])"
   ]
  },
  {
   "cell_type": "code",
   "execution_count": 9,
   "metadata": {
    "collapsed": true
   },
   "outputs": [],
   "source": [
    "# pick file, remove punctuation and stopwords\n",
    "tmp = '/home/alal/tmp'\n",
    "inp = root + 'raw_txts'\n",
    "out = root + '/sentences/'\n",
    "\n",
    "if not os.path.exists(out):\n",
    "    os.makedirs(out)"
   ]
  },
  {
   "cell_type": "markdown",
   "metadata": {},
   "source": [
    "**sentence splitter relies on nltk data**\n",
    "\n",
    "run \n",
    "```{python}\n",
    "nltk.download()\n",
    "```\n",
    "\n",
    "and select 'all packages' (3 GB download to `/home/<user>/` ) \n"
   ]
  },
  {
   "cell_type": "code",
   "execution_count": 12,
   "metadata": {},
   "outputs": [],
   "source": [
    "nltk.data.path.append('/media/alal/LAL_DATA/Newspapers/nltk_data')"
   ]
  },
  {
   "cell_type": "code",
   "execution_count": 13,
   "metadata": {
    "collapsed": true
   },
   "outputs": [],
   "source": [
    "def write_sentences(inputfile,outdir):\n",
    "    base = os.path.abspath(inputfile)\n",
    "    wdir, fname = outdir, os.path.split(base)[1]\n",
    "    writepath = wdir + '/sentences_' + fname.split('.')[0] + '.txt'\n",
    "\n",
    "    f = open(inputfile)\n",
    "    raw = f.read()\n",
    "    string = raw.replace('\\n',\" \")\n",
    "    sentences = [token.lower() for token in nltk.tokenize.sent_tokenize(string)]\n",
    "\n",
    "    outF = open(writepath, \"w\")\n",
    "    sentences = map(lambda x: x+\"\\n\", sentences)\n",
    "\n",
    "    outF.writelines(sentences)\n",
    "    outF.close()\n"
   ]
  },
  {
   "cell_type": "markdown",
   "metadata": {},
   "source": [
    "## Parallelize execution of word-counter function"
   ]
  },
  {
   "cell_type": "code",
   "execution_count": 37,
   "metadata": {
    "collapsed": true
   },
   "outputs": [],
   "source": [
    "files = glob.glob(inp+'/TKP_*.txt')"
   ]
  },
  {
   "cell_type": "code",
   "execution_count": 20,
   "metadata": {
    "collapsed": true
   },
   "outputs": [],
   "source": [
    "from joblib import Parallel, delayed\n",
    "import multiprocessing\n",
    "num_cores = multiprocessing.cpu_count()"
   ]
  },
  {
   "cell_type": "code",
   "execution_count": 10,
   "metadata": {},
   "outputs": [
    {
     "name": "stdout",
     "output_type": "stream",
     "text": [
      "CPU times: user 976 ms, sys: 96 ms, total: 1.07 s\n",
      "Wall time: 4min 37s\n"
     ]
    }
   ],
   "source": [
    "%%time\n",
    "results = Parallel(n_jobs=num_cores)(delayed(write_word_freqs)(i,out) \\\n",
    "                                     for i in files)"
   ]
  },
  {
   "cell_type": "markdown",
   "metadata": {},
   "source": [
    "## Parallelize execution of sentence splitter "
   ]
  },
  {
   "cell_type": "code",
   "execution_count": 44,
   "metadata": {
    "collapsed": true
   },
   "outputs": [],
   "source": [
    "files = glob.glob(inp+'/TKP_*.txt')"
   ]
  },
  {
   "cell_type": "code",
   "execution_count": 45,
   "metadata": {
    "collapsed": true
   },
   "outputs": [],
   "source": [
    "from joblib import Parallel, delayed\n",
    "import multiprocessing\n",
    "num_cores = multiprocessing.cpu_count()"
   ]
  },
  {
   "cell_type": "code",
   "execution_count": 46,
   "metadata": {},
   "outputs": [
    {
     "name": "stdout",
     "output_type": "stream",
     "text": [
      "CPU times: user 255 ms, sys: 44.4 ms, total: 299 ms\n",
      "Wall time: 1min 6s\n"
     ]
    }
   ],
   "source": [
    "%%time\n",
    "results = Parallel(n_jobs=num_cores)(delayed(write_sentences)(i,out) \\\n",
    "                                     for i in files)"
   ]
  }
 ],
 "metadata": {
  "kernelspec": {
   "display_name": "Python 3",
   "language": "python",
   "name": "python3"
  },
  "language_info": {
   "codemirror_mode": {
    "name": "ipython",
    "version": 3
   },
   "file_extension": ".py",
   "mimetype": "text/x-python",
   "name": "python",
   "nbconvert_exporter": "python",
   "pygments_lexer": "ipython3",
   "version": "3.6.3"
  }
 },
 "nbformat": 4,
 "nbformat_minor": 2
}
